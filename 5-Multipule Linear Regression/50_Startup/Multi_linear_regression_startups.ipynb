{
 "cells": [
  {
   "cell_type": "markdown",
   "metadata": {
    "id": "bL2hmXjsl2Dg"
   },
   "source": [
    "\n",
    "\n",
    "## Multi linear regression \n",
    "\n",
    "50-startups problem\n"
   ]
  },
  {
   "cell_type": "code",
   "execution_count": 1,
   "metadata": {
    "id": "C-wsIa_HlgVp"
   },
   "outputs": [],
   "source": [
    "#import libraries\n",
    "import pandas as pd\n",
    "import numpy as np \n",
    "import seaborn as sns\n",
    "import statsmodels.formula.api as smf\n",
    "import matplotlib.pyplot as plt"
   ]
  },
  {
   "cell_type": "code",
   "execution_count": 2,
   "metadata": {
    "colab": {
     "base_uri": "https://localhost:8080/",
     "height": 206
    },
    "id": "WnEJurCJmwGJ",
    "outputId": "7759c590-e7cb-411c-ab0d-2a9705243722"
   },
   "outputs": [],
   "source": [
    "# loading the data\n",
    "startup=pd.read_csv('50_Startups.csv')\n",
    "startup.head()"
   ]
  },
  {
   "cell_type": "markdown",
   "metadata": {
    "id": "-OuFFfQMo8Bc"
   },
   "source": [
    "**EDA**"
   ]
  },
  {
   "cell_type": "code",
   "execution_count": 3,
   "metadata": {
    "colab": {
     "base_uri": "https://localhost:8080/"
    },
    "id": "QupTBjvVoLS7",
    "outputId": "723b1af7-44a8-4357-aea5-4800429a915b"
   },
   "outputs": [],
   "source": [
    "startup.info()"
   ]
  },
  {
   "cell_type": "markdown",
   "metadata": {
    "id": "geRbP0dIujY1"
   },
   "source": [
    "All datatypes are correct.\n"
   ]
  },
  {
   "cell_type": "code",
   "execution_count": 4,
   "metadata": {
    "colab": {
     "base_uri": "https://localhost:8080/",
     "height": 300
    },
    "id": "saXS0VKfpR0L",
    "outputId": "adea74c5-10ae-4cbe-9cfa-384f6642e888"
   },
   "outputs": [],
   "source": [
    "# Dscriptive analysis\n",
    "startup.describe()"
   ]
  },
  {
   "cell_type": "code",
   "execution_count": 5,
   "metadata": {
    "colab": {
     "base_uri": "https://localhost:8080/"
    },
    "id": "Y__GPxWvpWNJ",
    "outputId": "fd9e3304-341d-4e47-86ce-9fa450244206"
   },
   "outputs": [],
   "source": [
    "# checking for null values\n",
    "startup.isnull().sum()"
   ]
  },
  {
   "cell_type": "markdown",
   "metadata": {
    "id": "EZhJ_HHPdGtT"
   },
   "source": [
    "there are no missing values in dataset"
   ]
  },
  {
   "cell_type": "code",
   "execution_count": 6,
   "metadata": {
    "colab": {
     "base_uri": "https://localhost:8080/"
    },
    "id": "PMoSAbl9dC-L",
    "outputId": "53f21567-e44c-482d-86f5-6ce3847e5ab5"
   },
   "outputs": [],
   "source": [
    "startup.shape"
   ]
  },
  {
   "cell_type": "code",
   "execution_count": 7,
   "metadata": {
    "colab": {
     "base_uri": "https://localhost:8080/",
     "height": 206
    },
    "id": "9AvE997uphLx",
    "outputId": "867fa8b5-2bb7-486f-b7fc-89fe08997c8e"
   },
   "outputs": [],
   "source": [
    "# renaming columns\n",
    "data=startup.rename({'R&D Spend':'rds','Administration':'admin','Marketing Spend':'marketing','State':'state','Profit':'profit'},axis=1)\n",
    "data.head()"
   ]
  },
  {
   "cell_type": "code",
   "execution_count": 8,
   "metadata": {
    "colab": {
     "base_uri": "https://localhost:8080/",
     "height": 49
    },
    "id": "mDEqR9ZKqaDv",
    "outputId": "7ed2c0b0-df64-4654-d588-cf3b489533f6"
   },
   "outputs": [],
   "source": [
    "# for finding duplicate values\n",
    "data[data.duplicated()]"
   ]
  },
  {
   "cell_type": "markdown",
   "metadata": {
    "id": "9kYPMA1GvV9w"
   },
   "source": [
    "There are no duplicate values in dataset."
   ]
  },
  {
   "cell_type": "markdown",
   "metadata": {
    "id": "VJXbibzyq9oQ"
   },
   "source": [
    "**Correlation**"
   ]
  },
  {
   "cell_type": "code",
   "execution_count": 9,
   "metadata": {
    "colab": {
     "base_uri": "https://localhost:8080/",
     "height": 175
    },
    "id": "PJTUreusq6GB",
    "outputId": "120001fd-f081-4fae-d402-2c69b476e8d0"
   },
   "outputs": [],
   "source": [
    "data.corr()"
   ]
  },
  {
   "cell_type": "code",
   "execution_count": 10,
   "metadata": {
    "colab": {
     "base_uri": "https://localhost:8080/",
     "height": 744
    },
    "id": "s62lpRuCrF64",
    "outputId": "18f4f05c-2a66-41fc-fb23-aedbe7ef1e7d"
   },
   "outputs": [],
   "source": [
    "sns.set_style(style='darkgrid')\n",
    "sns.pairplot(data)"
   ]
  },
  {
   "cell_type": "markdown",
   "metadata": {
    "id": "2dlE_PAMvmIQ"
   },
   "source": [
    "**Model Building**"
   ]
  },
  {
   "cell_type": "code",
   "execution_count": 11,
   "metadata": {
    "id": "h0ylaw9wrUUG"
   },
   "outputs": [],
   "source": [
    "model = smf.ols(\"profit~rds+admin+marketing\",data=data).fit()"
   ]
  },
  {
   "cell_type": "markdown",
   "metadata": {
    "id": "SPti79Pz7B5v"
   },
   "source": [
    "**Model Testing**"
   ]
  },
  {
   "cell_type": "code",
   "execution_count": 12,
   "metadata": {
    "colab": {
     "base_uri": "https://localhost:8080/"
    },
    "id": "XXeoV8yk6-xo",
    "outputId": "e680ffae-34d9-4a4d-d15f-7eecc9215b60"
   },
   "outputs": [],
   "source": [
    "# finding coefficient parameter\n",
    "model.params"
   ]
  },
  {
   "cell_type": "code",
   "execution_count": 13,
   "metadata": {
    "colab": {
     "base_uri": "https://localhost:8080/"
    },
    "id": "mk6y3Lgo0KBT",
    "outputId": "c574a3e1-624d-4385-f331-f68140d61cd0"
   },
   "outputs": [],
   "source": [
    "# finding tvalues and pvalues\n",
    "model.tvalues , np.round(model.pvalues,5)"
   ]
  },
  {
   "cell_type": "code",
   "execution_count": 14,
   "metadata": {
    "colab": {
     "base_uri": "https://localhost:8080/"
    },
    "id": "GEN2mmkn71Y3",
    "outputId": "fecc19ca-cdaa-492d-cb81-d204468d7aaf"
   },
   "outputs": [],
   "source": [
    "# finding rsquared values\n",
    "model.rsquared , model.rsquared_adj"
   ]
  },
  {
   "cell_type": "markdown",
   "metadata": {
    "id": "Te1BOfWT8Hzp"
   },
   "source": [
    "Model accuracy = 94.75%"
   ]
  },
  {
   "cell_type": "code",
   "execution_count": 15,
   "metadata": {
    "id": "9VAu5kRi8GSN"
   },
   "outputs": [],
   "source": [
    "# build SLR and MLR models for insignificant variables 'admin' and 'marketing'\n",
    "slr_admin=smf.ols(\"profit~admin\",data=data).fit()"
   ]
  },
  {
   "cell_type": "code",
   "execution_count": 16,
   "metadata": {
    "colab": {
     "base_uri": "https://localhost:8080/"
    },
    "id": "t2J0vuI49VV9",
    "outputId": "01ab05d5-8c4f-416e-9df2-1ef115008aae"
   },
   "outputs": [],
   "source": [
    "# finding tvalues and pvalues\n",
    "slr_admin.tvalues , slr_admin.pvalues"
   ]
  },
  {
   "cell_type": "code",
   "execution_count": 17,
   "metadata": {
    "colab": {
     "base_uri": "https://localhost:8080/"
    },
    "id": "p4izGUgb9pR2",
    "outputId": "b3a5cb86-72b8-4886-c529-225ea474e99b"
   },
   "outputs": [],
   "source": [
    "# for marketing\n",
    "slr_mark=smf.ols(\"profit~marketing\",data=data).fit()\n",
    "slr_mark.tvalues,slr_mark.pvalues"
   ]
  },
  {
   "cell_type": "code",
   "execution_count": 18,
   "metadata": {
    "colab": {
     "base_uri": "https://localhost:8080/"
    },
    "id": "WOSXCmQI-MGG",
    "outputId": "b61b4aab-6941-4813-b44e-27115fa2a50e"
   },
   "outputs": [],
   "source": [
    "# for admin+marketing MLR\n",
    "mlr_am=smf.ols(\"profit~admin+marketing\",data=data).fit()\n",
    "mlr_am.tvalues,mlr_am.pvalues"
   ]
  },
  {
   "cell_type": "markdown",
   "metadata": {
    "id": "BsOmgfae_Qgb"
   },
   "source": [
    "**Model Validation**\n",
    "\n",
    "**1.Colinearity check**"
   ]
  },
  {
   "cell_type": "code",
   "execution_count": 19,
   "metadata": {
    "id": "ATVH70-h-wrT"
   },
   "outputs": [],
   "source": [
    "# 1) Colinearity Problem Check\n",
    "# Calculate VIF = 1/(1-Rsquare) for all independent variables\n",
    "\n",
    "rsq_r=smf.ols(\"rds~admin+marketing\",data=data).fit().rsquared\n",
    "vif_r=1/(1-rsq_r)"
   ]
  },
  {
   "cell_type": "code",
   "execution_count": 20,
   "metadata": {
    "id": "QOK-pXXlYkky"
   },
   "outputs": [],
   "source": [
    "rsq_a=smf.ols(\"admin~rds+marketing\",data=data).fit().rsquared\n",
    "vif_a=1/(1-rsq_a)"
   ]
  },
  {
   "cell_type": "code",
   "execution_count": 21,
   "metadata": {
    "id": "3GMKJbGGZCLK"
   },
   "outputs": [],
   "source": [
    "rsq_m=smf.ols(\"marketing~rds+admin\",data=data).fit().rsquared\n",
    "vif_m=1/(1-rsq_m)"
   ]
  },
  {
   "cell_type": "code",
   "execution_count": 22,
   "metadata": {
    "colab": {
     "base_uri": "https://localhost:8080/",
     "height": 143
    },
    "id": "-wu2Zok8ZOtY",
    "outputId": "32fba85a-ef91-41bd-9be6-45d42ae92f96"
   },
   "outputs": [],
   "source": [
    "# Putting the values in Dataframe format\n",
    "data1={'Variables':['rds','admin','marketing'],'Vif':[vif_r,vif_a,vif_m]}\n",
    "Vif_df=pd.DataFrame(data1)\n",
    "Vif_df"
   ]
  },
  {
   "cell_type": "markdown",
   "metadata": {
    "id": "QYCslkCkZcBC"
   },
   "source": [
    "**2.Residual Analysis**"
   ]
  },
  {
   "cell_type": "code",
   "execution_count": 23,
   "metadata": {
    "colab": {
     "base_uri": "https://localhost:8080/",
     "height": 295
    },
    "id": "vpkbiHw7ZZch",
    "outputId": "5d5f2655-472c-4ce9-a2fb-fb522857222c"
   },
   "outputs": [],
   "source": [
    "import statsmodels.api as sm\n",
    "model=smf.ols(\"profit~rds+admin+marketing\",data=data).fit()\n",
    "qqplot=sm.qqplot(model.resid,line='q') \n",
    "plt.title(\"Normal Q-Q plot of residuals\")\n",
    "plt.show()"
   ]
  },
  {
   "cell_type": "markdown",
   "metadata": {
    "id": "JPpki8QiaQBt"
   },
   "source": [
    "Data showing homoscedacity"
   ]
  },
  {
   "cell_type": "code",
   "execution_count": 24,
   "metadata": {
    "colab": {
     "base_uri": "https://localhost:8080/"
    },
    "id": "X1jBOBQ-aEKr",
    "outputId": "95dd8366-17fc-4532-d452-e5be30288dd8"
   },
   "outputs": [],
   "source": [
    "list(np.where(model.resid>10))"
   ]
  },
  {
   "cell_type": "markdown",
   "metadata": {
    "id": "XVufvHO6aK3p"
   },
   "source": [
    "**Residual Plot for Homoscedasticity**"
   ]
  },
  {
   "cell_type": "code",
   "execution_count": 25,
   "metadata": {
    "id": "vXwrNDhyaI7K"
   },
   "outputs": [],
   "source": [
    "model=smf.ols(\"profit~rds+admin+marketing\",data=data).fit()"
   ]
  },
  {
   "cell_type": "code",
   "execution_count": 26,
   "metadata": {
    "colab": {
     "base_uri": "https://localhost:8080/",
     "height": 524
    },
    "id": "Kqi9Y69nEAGl",
    "outputId": "e0c81c7f-364b-4cb7-8154-55ed2f2897b2"
   },
   "outputs": [],
   "source": [
    "model.summary()"
   ]
  },
  {
   "cell_type": "code",
   "execution_count": 27,
   "metadata": {
    "id": "uLvPnViFaxvW"
   },
   "outputs": [],
   "source": [
    "def get_standardized_values( vals ):\n",
    "    return (vals - vals.mean())/vals.std()"
   ]
  },
  {
   "cell_type": "code",
   "execution_count": 28,
   "metadata": {
    "colab": {
     "base_uri": "https://localhost:8080/",
     "height": 621
    },
    "id": "Qv0kS-dFa8vK",
    "outputId": "8b74a9ac-b5e8-4c58-be69-991666dccc6e"
   },
   "outputs": [],
   "source": [
    "plt.figure(figsize=(15,10))\n",
    "plt.scatter(get_standardized_values(model.fittedvalues),\n",
    "            get_standardized_values(model.resid))\n",
    "\n",
    "plt.title('Residual Plot')\n",
    "plt.xlabel('Standardized Fitted values')\n",
    "plt.ylabel('Standardized residual values')\n",
    "plt.show()"
   ]
  },
  {
   "cell_type": "markdown",
   "metadata": {
    "id": "s0U1yfGAbba5"
   },
   "source": [
    "**Residual Vs Regressors plots**"
   ]
  },
  {
   "cell_type": "code",
   "execution_count": 29,
   "metadata": {
    "colab": {
     "base_uri": "https://localhost:8080/",
     "height": 726
    },
    "id": "-0vpcazLa_yp",
    "outputId": "515b9c10-a0ce-467a-b95c-5d71645d8e88"
   },
   "outputs": [],
   "source": [
    "fig = plt.figure(figsize=(15,10))\n",
    "fig = sm.graphics.plot_regress_exog(model, \"rds\", fig=fig)\n",
    "plt.show()"
   ]
  },
  {
   "cell_type": "code",
   "execution_count": 30,
   "metadata": {
    "colab": {
     "base_uri": "https://localhost:8080/",
     "height": 726
    },
    "id": "qNhJMItBbjLz",
    "outputId": "55177480-d17a-4393-e170-ebf2536ec60f"
   },
   "outputs": [],
   "source": [
    "fig = plt.figure(figsize=(15,10))\n",
    "fig = sm.graphics.plot_regress_exog(model, \"admin\", fig=fig)\n",
    "plt.show()"
   ]
  },
  {
   "cell_type": "code",
   "execution_count": 31,
   "metadata": {
    "colab": {
     "base_uri": "https://localhost:8080/",
     "height": 726
    },
    "id": "mJlupkNybuwM",
    "outputId": "6bdcb4b6-5c4b-4d6e-dd77-7541c67a9ef9"
   },
   "outputs": [],
   "source": [
    "fig = plt.figure(figsize=(15,10))\n",
    "fig = sm.graphics.plot_regress_exog(model, \"marketing\", fig=fig)\n",
    "plt.show()"
   ]
  },
  {
   "cell_type": "markdown",
   "metadata": {
    "id": "eUFFMGapb6cg"
   },
   "source": [
    "**Identify the outliers**\n",
    "\n",
    "by cook's distance"
   ]
  },
  {
   "cell_type": "code",
   "execution_count": 32,
   "metadata": {
    "id": "pq48T-Lfb1dO"
   },
   "outputs": [],
   "source": [
    "from statsmodels.graphics.regressionplots import influence_plot\n",
    "\n",
    "model_influence = model.get_influence()\n",
    "(c, _) = model_influence.cooks_distance"
   ]
  },
  {
   "cell_type": "code",
   "execution_count": 33,
   "metadata": {
    "colab": {
     "base_uri": "https://localhost:8080/",
     "height": 500
    },
    "id": "FIZ2BJeXcM6i",
    "outputId": "7be884cc-4d66-4481-b4ff-a80641f25746"
   },
   "outputs": [],
   "source": [
    "#Plot the influencers values using stem plot\n",
    "fig = plt.subplots(figsize=(20, 7))\n",
    "plt.stem(np.arange(len(startup)), np.round(c, 3))\n",
    "plt.xlabel('Row index')\n",
    "plt.ylabel('Cooks Distance')\n",
    "plt.show()"
   ]
  },
  {
   "cell_type": "markdown",
   "metadata": {
    "id": "Z2OO9tvMcisd"
   },
   "source": [
    "index and value of the influencer where c is more than 0.5"
   ]
  },
  {
   "cell_type": "code",
   "execution_count": 34,
   "metadata": {
    "colab": {
     "base_uri": "https://localhost:8080/"
    },
    "id": "pjxVAcowcSlj",
    "outputId": "1ed86d8f-af57-4b4d-b608-5f1442a2c5ab"
   },
   "outputs": [],
   "source": [
    "(np.argmax(c),np.max(c))"
   ]
  },
  {
   "cell_type": "markdown",
   "metadata": {
    "id": "ibtC6qnRhpUJ"
   },
   "source": [
    "**High Influence points**"
   ]
  },
  {
   "cell_type": "code",
   "execution_count": 35,
   "metadata": {
    "colab": {
     "base_uri": "https://localhost:8080/"
    },
    "id": "GprmXgL2chxD",
    "outputId": "77b7304a-4bd4-41ad-dafc-37018fb83d48"
   },
   "outputs": [],
   "source": [
    "k = startup.shape[1]\n",
    "n = startup.shape[0]\n",
    "leverage_cutoff = 3*((k + 1)/n)\n",
    "leverage_cutoff"
   ]
  },
  {
   "cell_type": "code",
   "execution_count": 36,
   "metadata": {
    "id": "q6cx0wJTh2Ym"
   },
   "outputs": [],
   "source": [
    "from statsmodels.graphics.regressionplots import influence_plot\n"
   ]
  },
  {
   "cell_type": "code",
   "execution_count": 37,
   "metadata": {
    "colab": {
     "base_uri": "https://localhost:8080/",
     "height": 302
    },
    "id": "oF5lYmNsiBix",
    "outputId": "336ea651-a935-4edc-e6ee-0fd35b9d6e32"
   },
   "outputs": [],
   "source": [
    "influence_plot(model,alhpa=0.5)\n",
    "\n",
    "y=[i for i in range(-2,8)]\n",
    "x=[leverage_cutoff for i in range(10)]\n",
    "plt.plot(x,y,'r+')\n",
    "\n",
    "plt.show()"
   ]
  },
  {
   "cell_type": "markdown",
   "metadata": {
    "id": "4V7rcvDJiLbH"
   },
   "source": [
    "we can see in above plot,that the data point 49 is the influencer."
   ]
  },
  {
   "cell_type": "code",
   "execution_count": 38,
   "metadata": {
    "colab": {
     "base_uri": "https://localhost:8080/",
     "height": 81
    },
    "id": "bkrsO_CSiHbI",
    "outputId": "a2b00a5d-c856-4e9b-b0cf-1dc835189690"
   },
   "outputs": [],
   "source": [
    "data[data.index.isin([49])]"
   ]
  },
  {
   "cell_type": "markdown",
   "metadata": {
    "id": "fEvb79ubicTf"
   },
   "source": [
    "**Improving the model**"
   ]
  },
  {
   "cell_type": "code",
   "execution_count": 39,
   "metadata": {
    "id": "e_6gFaOFiaDL"
   },
   "outputs": [],
   "source": [
    "#Discard the data points which are influencers and reasign the row number (reset_index())\n",
    "data2=data.drop(startup.index[[49]],axis=0).reset_index(drop=True)"
   ]
  },
  {
   "cell_type": "code",
   "execution_count": 40,
   "metadata": {
    "colab": {
     "base_uri": "https://localhost:8080/",
     "height": 1000
    },
    "id": "jmhQb57IizLU",
    "outputId": "9aea2011-9dad-4b4c-dbd1-d7917ee3f85d"
   },
   "outputs": [],
   "source": [
    "data2"
   ]
  },
  {
   "cell_type": "markdown",
   "metadata": {
    "id": "gXgQXUH0i7A0"
   },
   "source": [
    "**Final Model**"
   ]
  },
  {
   "cell_type": "code",
   "execution_count": 41,
   "metadata": {
    "colab": {
     "base_uri": "https://localhost:8080/"
    },
    "id": "XPwufPCNi33z",
    "outputId": "3da55058-eda3-4644-f958-e51f86a0c0d0"
   },
   "outputs": [],
   "source": [
    "# model delation diagnosis\n",
    "while np.max(c)>0.5 :\n",
    "    model=smf.ols(\"profit~rds+admin+marketing\",data=data2).fit()\n",
    "    (c,_)=model.get_influence().cooks_distance\n",
    "    c\n",
    "    np.argmax(c) , np.max(c)\n",
    "    data_=data2.drop(data2.index[[np.argmax(c)]],axis=0).reset_index(drop=True)\n",
    "    data_\n",
    "else:\n",
    "    final_model=smf.ols(\"profit~rds+admin+marketing\",data=data2).fit()\n",
    "    final_model.rsquared , final_model.aic\n",
    "    print(\"Thus model accuracy is improved to\",final_model.rsquared)"
   ]
  },
  {
   "cell_type": "code",
   "execution_count": 42,
   "metadata": {
    "colab": {
     "base_uri": "https://localhost:8080/"
    },
    "id": "PKCBsv9xjkkp",
    "outputId": "cb2a0c0c-9216-42c3-d290-5062cdaef133"
   },
   "outputs": [],
   "source": [
    "final_model.rsquared"
   ]
  },
  {
   "cell_type": "code",
   "execution_count": 43,
   "metadata": {
    "colab": {
     "base_uri": "https://localhost:8080/",
     "height": 524
    },
    "id": "1j6V-IhDnEtU",
    "outputId": "33d5a140-a039-47ff-f1d7-c873841e5751"
   },
   "outputs": [],
   "source": [
    "final_model.summary()"
   ]
  },
  {
   "cell_type": "markdown",
   "metadata": {
    "id": "cRsZTJKfkAPT"
   },
   "source": [
    "**Model prediction**"
   ]
  },
  {
   "cell_type": "code",
   "execution_count": 44,
   "metadata": {
    "colab": {
     "base_uri": "https://localhost:8080/",
     "height": 81
    },
    "id": "BysrzfUsjqqr",
    "outputId": "0c16cf30-260a-44f0-b265-dd4cf038bff2"
   },
   "outputs": [],
   "source": [
    "# prediction for new data\n",
    "startup1=pd.DataFrame({'rds':70000,\"admin\":90000,\"marketing\":140000},index=[0])\n",
    "startup1"
   ]
  },
  {
   "cell_type": "code",
   "execution_count": 45,
   "metadata": {
    "colab": {
     "base_uri": "https://localhost:8080/"
    },
    "id": "9YRgp05rjsge",
    "outputId": "69bdcad3-cf87-41a5-b426-12deeacf9697"
   },
   "outputs": [],
   "source": [
    "# Manual Prediction of Price\n",
    "final_model.predict(startup1)"
   ]
  },
  {
   "cell_type": "code",
   "execution_count": 46,
   "metadata": {
    "colab": {
     "base_uri": "https://localhost:8080/"
    },
    "id": "J-Q35xDckcWW",
    "outputId": "9fe72f1e-36a7-4abe-e9d3-7c82b1ad5120"
   },
   "outputs": [],
   "source": [
    "# Automatic Prediction of Price \n",
    "pred_y=final_model.predict(data)\n",
    "pred_y"
   ]
  },
  {
   "cell_type": "code",
   "execution_count": 47,
   "metadata": {
    "colab": {
     "base_uri": "https://localhost:8080/",
     "height": 112
    },
    "id": "qkv3wmJ5khd4",
    "outputId": "e523cede-34fa-4eaa-eacb-eb231d70865f"
   },
   "outputs": [],
   "source": [
    "d2={'Prep_Models':['Model','Final_Model'],'Rsquared':[model.rsquared,final_model.rsquared]}\n",
    "table=pd.DataFrame(d2)\n",
    "table"
   ]
  },
  {
   "cell_type": "code",
   "execution_count": null,
   "metadata": {
    "id": "z0Xr64YA5Xr0"
   },
   "outputs": [],
   "source": []
  }
 ],
 "metadata": {
  "colab": {
   "provenance": []
  },
  "kernelspec": {
   "display_name": "Python 3 (ipykernel)",
   "language": "python",
   "name": "python3"
  },
  "language_info": {
   "codemirror_mode": {
    "name": "ipython",
    "version": 3
   },
   "file_extension": ".py",
   "mimetype": "text/x-python",
   "name": "python",
   "nbconvert_exporter": "python",
   "pygments_lexer": "ipython3",
   "version": "3.11.3"
  }
 },
 "nbformat": 4,
 "nbformat_minor": 1
}
